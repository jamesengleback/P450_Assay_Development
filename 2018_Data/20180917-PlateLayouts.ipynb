{
 "cells": [
  {
   "cell_type": "code",
   "execution_count": 213,
   "metadata": {},
   "outputs": [],
   "source": [
    "import pandas as pd\n",
    "import numpy as np\n",
    "import matplotlib.pyplot as plt\n",
    "\n",
    "def calc(v2, concs, power):\n",
    "    x = np.linspace(0,1, concs)\n",
    "    x = np.power(x,power)\n",
    "    x = x/x.max()*500   #normalize from 0-1, multiply by 200 =(500/2.5)\n",
    "    x = pd.DataFrame(x) #conc in µM\n",
    "    v1 =(v2*x)/10 # nl\n",
    "    v1 = np.ceil(v1/2.5)*2.5\n",
    "    return v1\n",
    "\n",
    "\n",
    "###(calc(50,12, 4)/1000)*10000/50  ###Back calculating\n",
    "\n",
    "\n",
    "data = pd.read_csv('20180913-Plate assay design - Plate 1 Layout (1).csv').drop(['Pattern',\n",
    "                                                                            'Shake time/s',\n",
    "                                                                           'Shake speed',\n",
    "                                                                            'Plate ID'], \n",
    "                                                                            axis =1)\n",
    "\n",
    "alphabet = ['A','B','C','D','E','F','G','H','I','J','K','L','M','N','O','P']\n",
    "\n",
    "layout = pd.DataFrame([i + str(j) for j in range(1,25) for i in alphabet], columns = ['Well'])\n",
    "\n",
    "reps = 3\n",
    "newdata = pd.DataFrame()\n",
    "\n",
    "for i in range(0, reps):\n",
    "    newdata = newdata.append(data)\n",
    "newdata = newdata.sort_values(['Vol/µl','[prot]/µM']) #make version of data with replicates\n",
    "\n",
    "\n",
    "temp = pd.DataFrame() # temporary thing\n",
    "newdata = newdata.reset_index() #yeeeeeeaap\n",
    "\n",
    "for i in range(0,len(newdata)): ##replicate each experimental run by number of concentrations\n",
    "    for j in range(0,newdata.loc[i,'No.concs']):\n",
    "        temp = temp.append([newdata.loc[i]])\n",
    "\n",
    "        \n",
    "layout = pd.concat([layout,\n",
    "                    temp.reset_index().drop(['index','level_0'],\n",
    "                        axis =1)],\n",
    "                   axis = 1,\n",
    "                   join = 'inner')        \n",
    "\n",
    "Vols = pd.Series(name = 'Volumes')\n",
    "\n",
    "for i in range(0,len(newdata)):\n",
    "    v2 = (newdata.loc[i]['Vol/µl'])\n",
    "    concs = (newdata.loc[i]['No.concs'])\n",
    "    power = (newdata.loc[i]['Power'])\n",
    "    vols = calc(v2, concs, power)\n",
    "    Vols = Vols.append(vols)\n",
    "Vols = Vols.reset_index()\n",
    "layout = pd.concat([layout, Vols],\n",
    "                  axis = 1,\n",
    "                  join = 'inner')\n",
    "#sum(layout[0])/1000\n",
    "#4*sum(layout['Vol/µl'].where(layout['[prot]/µM'] ==10).dropna())/1000  #how much stock??\n",
    "\n",
    "#layout.to_csv('20180918-Mainplate layout.csv')\n",
    "#sum(layout[0])/1000\n",
    "\n",
    "#print(22.83 + 215.295)\n",
    "layout.to_csv('20180919_layout.csv')"
   ]
  },
  {
   "cell_type": "code",
   "execution_count": 123,
   "metadata": {},
   "outputs": [
    {
     "data": {
      "image/png": "[encoded data removed]",
      "text/plain": [
       "<Figure size 432x288 with 2 Axes>"
      ]
     },
     "metadata": {},
     "output_type": "display_data"
    }
   ],
   "source": [
    "maparr = []\n",
    "for i in layout['Vol/µl']:\n",
    "    maparr = np.append(maparr, i)\n",
    "plt.imshow(maparr.reshape(24,16))\n",
    "plt.colorbar(label = 'Vol/µl')\n",
    "plt.show()"
   ]
  },
  {
   "cell_type": "code",
   "execution_count": 127,
   "metadata": {},
   "outputs": [
    {
     "data": {
      "image/png": "[encoded data removed]",
      "text/plain": [
       "<Figure size 432x288 with 2 Axes>"
      ]
     },
     "metadata": {},
     "output_type": "display_data"
    }
   ],
   "source": [
    "maparr = []\n",
    "for i in layout[0]:\n",
    "    maparr = np.append(maparr, i)\n",
    "plt.imshow(maparr.reshape(24,16))\n",
    "plt.colorbar(label = 'Vol Substrate/nl')\n",
    "plt.show()"
   ]
  },
  {
   "cell_type": "code",
   "execution_count": 126,
   "metadata": {
    "scrolled": true
   },
   "outputs": [
    {
     "data": {
      "image/png": "[encoded data removed]",
      "text/plain": [
       "<Figure size 432x288 with 2 Axes>"
      ]
     },
     "metadata": {},
     "output_type": "display_data"
    }
   ],
   "source": [
    "maparr = []\n",
    "for i in layout['[prot]/µM']:\n",
    "    maparr = np.append(maparr, i)\n",
    "plt.imshow(maparr.reshape(24,16))\n",
    "plt.colorbar(label = '[prot]/µM')\n",
    "plt.show()"
   ]
  },
  {
   "cell_type": "code",
   "execution_count": 204,
   "metadata": {
    "scrolled": true
   },
   "outputs": [
    {
     "name": "stderr",
     "output_type": "stream",
     "text": [
      "C:\\Users\\MFBX3JE3\\Anaconda35\\lib\\site-packages\\ipykernel_launcher.py:6: DeprecationWarning: object of type <class 'numpy.float64'> cannot be safely interpreted as an integer.\n",
      "  \n"
     ]
    },
    {
     "data": {
      "text/plain": [
       "22.83"
      ]
     },
     "execution_count": 204,
     "metadata": {},
     "output_type": "execute_result"
    },
    {
     "data": {
      "image/png": "[encoded data removed]",
      "text/plain": [
       "<Figure size 432x288 with 2 Axes>"
      ]
     },
     "metadata": {},
     "output_type": "display_data"
    }
   ],
   "source": [
    "data2 = data\n",
    "data2['Vol/µl'] = 30\n",
    "data2['[prot]/µM'] = 6\n",
    "data2['No.concs'] = 8\n",
    "data2['Power'] = 2.5\n",
    "data2 = data2.loc[0]\n",
    "\n",
    "layout = pd.DataFrame([i + str(j) for j in range(1,25) for i in alphabet], columns = ['Well'])\n",
    "\n",
    "reps = 6\n",
    "newdata = pd.DataFrame()\n",
    "\n",
    "for i in range(0, reps):\n",
    "    newdata = newdata.append(data2)\n",
    "newdata = newdata.sort_values(['Vol/µl','[prot]/µM']) #make version of data with replicates\n",
    "\n",
    "temp = pd.DataFrame() # temporary thing\n",
    "newdata = newdata.reset_index() #yeeeeeeaap\n",
    "\n",
    "for i in range(0,len(newdata)): ##replicate each experimental run by number of concentrations\n",
    "    for j in range(0,8):\n",
    "        temp = temp.append([newdata.loc[i]])\n",
    "\n",
    "layout = pd.concat([layout,\n",
    "                    temp.reset_index().drop(['index','level_0'],\n",
    "                                            axis =1)],\n",
    "                   axis = 1,\n",
    "                   join = 'inner')        \n",
    "\n",
    "Vols = pd.Series(name = 'Volumes')\n",
    "\n",
    "for i in range(0,len(newdata)):\n",
    "    v2 = (newdata.loc[i]['Vol/µl'])\n",
    "    concs = (newdata.loc[i]['No.concs'])\n",
    "    power = (newdata.loc[i]['Power'])\n",
    "    vols = calc(v2, concs, power)\n",
    "    Vols = Vols.append(vols)\n",
    "Vols = Vols.reset_index()\n",
    "layout = pd.concat([layout, Vols],\n",
    "                  axis = 1,\n",
    "                  join = 'inner')\n",
    "#sum(layout[0])/1000\n",
    "\n",
    "maparr = []\n",
    "for i in layout['Vol/µl']:\n",
    "    maparr = np.append(maparr, i)\n",
    "plt.imshow(maparr.reshape(3,16))\n",
    "plt.colorbar(label = 'Vol/µl')\n",
    "#plt.show()\n",
    "\n",
    "#sum(layout['Vol/µl'])/1000\n",
    "\n",
    "#layout.to_csv('20180918-MidpointPlate layout.csv')\n",
    "sum(layout[0])/1000"
   ]
  },
  {
   "cell_type": "code",
   "execution_count": 210,
   "metadata": {},
   "outputs": [
    {
     "data": {
      "text/plain": [
       "'B'"
      ]
     },
     "execution_count": 210,
     "metadata": {},
     "output_type": "execute_result"
    }
   ],
   "source": [
    "alphabet[]"
   ]
  },
  {
   "cell_type": "code",
   "execution_count": 131,
   "metadata": {},
   "outputs": [
    {
     "data": {
      "image/png": "[encoded data removed]",
      "text/plain": [
       "<Figure size 432x288 with 2 Axes>"
      ]
     },
     "metadata": {},
     "output_type": "display_data"
    }
   ],
   "source": [
    "maparr = np.random.rand(1536)\n",
    "\n",
    "plt.imshow(maparr.reshape(48,32))\n",
    "plt.colorbar(label = '[prot]/µM')\n",
    "plt.show()"
   ]
  }
 ],
 "metadata": {
  "kernelspec": {
   "display_name": "Python 3",
   "language": "python",
   "name": "python3"
  },
  "language_info": {
   "codemirror_mode": {
    "name": "ipython",
    "version": 3
   },
   "file_extension": ".py",
   "mimetype": "text/x-python",
   "name": "python",
   "nbconvert_exporter": "python",
   "pygments_lexer": "ipython3",
   "version": "3.6.5"
  }
 },
 "nbformat": 4,
 "nbformat_minor": 2
}
