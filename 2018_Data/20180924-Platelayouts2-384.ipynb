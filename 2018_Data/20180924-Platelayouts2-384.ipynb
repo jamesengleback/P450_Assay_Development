{
 "cells": [
  {
   "cell_type": "code",
   "execution_count": 3,
   "metadata": {},
   "outputs": [],
   "source": [
    "import pandas as pd\n",
    "import numpy as np\n",
    "import matplotlib.pyplot as plt\n",
    "\n",
    "\n",
    "data = pd.read_csv('20180924-FullFatDesign.csv')\n",
    "\n",
    "def calc(v2, concs, power):\n",
    "    x = np.linspace(0,1, concs)\n",
    "    x = np.power(x,power)\n",
    "    x = x/x.max()*500   #normalize from 0-1, multiply by 200 =(500/2.5)\n",
    "    x = pd.DataFrame(x) #conc in µM\n",
    "    v1 =(v2*x)/10 # nl\n",
    "    v1 = np.ceil(v1/2.5)*2.5\n",
    "    return v1\n",
    "\n",
    "\n",
    "alphabet = ['A','B','C','D','E','F','G','H','I','J','K','L','M','N','O','P']\n",
    "\n",
    "layout = pd.DataFrame([i + str(j) for j in range(1,25) for i in alphabet], columns = ['Well'])\n",
    "\n",
    "reps = 5\n",
    "newdata = pd.DataFrame()\n",
    "\n",
    "for i in range(0, reps):\n",
    "    newdata = newdata.append(data)\n",
    "newdata = newdata.sort_values(['Vol/µl','Prot]/µM']) #make version of data with replicates\n",
    "\n",
    "\n",
    "temp = pd.DataFrame() # temporary thing\n",
    "newdata = newdata.reset_index() #yeeeeeeaap\n",
    "\n",
    "for i in range(0,len(newdata)): ##replicate each experimental run by number of concentrations\n",
    "    for j in range(0,newdata.loc[i,'No. Concs']):\n",
    "        temp = temp.append([newdata.loc[i]])\n",
    "\n",
    "        \n",
    "temp = temp.reset_index().drop(['index','level_0'],\n",
    "                              axis = 1)\n",
    "temp = temp.sort_values(['Vol/µl','Prot]/µM']).drop(['Pattern', 'Block','StDev'],\n",
    "           axis = 1)\n",
    "\n",
    "Vols = pd.Series(name = 'Volumes')\n",
    "\n",
    "for i in range(0,len(newdata)):\n",
    "    v2 = (newdata.loc[i]['Vol/µl'])\n",
    "    concs = (newdata.loc[i]['No. Concs'])\n",
    "    power = (newdata.loc[i]['Power'])\n",
    "    vols = calc(v2, concs, power)\n",
    "    Vols = Vols.append(vols)\n",
    "    \n",
    "Vols.columns = ['Substreate/nl']\n",
    "Vols = Vols.reset_index(drop = True)\n",
    "\n",
    "temp = pd.concat([temp, Vols],\n",
    "         axis = 1,\n",
    "         join = 'inner')"
   ]
  },
  {
   "cell_type": "code",
   "execution_count": 6,
   "metadata": {},
   "outputs": [],
   "source": [
    "plate1 = temp.loc[0:359].append(pd.DataFrame(np.zeros(shape = (24,5)),\n",
    "                          columns = temp.columns),\n",
    "             ignore_index  = True)\n",
    "plate2 = temp.loc[360:719].append(pd.DataFrame(np.zeros(shape = (24,5)),\n",
    "                          columns = temp.columns),\n",
    "             ignore_index  = True)\n",
    "plate3 = temp.loc[720:].append(pd.DataFrame(np.zeros(shape = (24,5)),\n",
    "                          columns = temp.columns),\n",
    "             ignore_index  = True)\n",
    "\n",
    "plate1.to_csv('384plate1.csv')\n",
    "plate2.to_csv('384plate2.csv')\n",
    "plate3.to_csv('384plate3.csv')"
   ]
  },
  {
   "cell_type": "code",
   "execution_count": 7,
   "metadata": {
    "scrolled": false
   },
   "outputs": [
    {
     "data": {
      "text/plain": [
       "<Figure size 432x288 with 0 Axes>"
      ]
     },
     "metadata": {},
     "output_type": "display_data"
    },
    {
     "data": {
      "image/png": "[encoded data removed]",
      "text/plain": [
       "<Figure size 432x288 with 3 Axes>"
      ]
     },
     "metadata": {},
     "output_type": "display_data"
    }
   ],
   "source": [
    "plt.set_cmap('viridis')\n",
    "f, (ax1, ax2, ax3) = plt.subplots(1, 3, sharey=True)\n",
    "\n",
    "maparr = []\n",
    "for i in plate1['Substreate/nl']:\n",
    "    maparr = np.append(maparr, i)\n",
    "ax1.imshow(maparr.reshape(24,16))\n",
    "ax1.set_title('Substrate')\n",
    "\n",
    "#ax1.colorbar(label = 'Vol Substrate/nl')\n",
    "\n",
    "maparr = []\n",
    "for i in plate1['Prot]/µM']:\n",
    "    maparr = np.append(maparr, i)\n",
    "ax2.imshow(maparr.reshape(24,16))\n",
    "ax2.set_title('[Prot]/µM')\n",
    "#ax1.colorbar(label = 'Vol Substrate/nl')\n",
    "\n",
    "maparr = []\n",
    "for i in plate1['Vol/µl']:\n",
    "    maparr = np.append(maparr, i)\n",
    "ax3.imshow(maparr.reshape(24,16))\n",
    "ax3.set_title('Vol/µl')\n",
    "#plt.colorbar(label = 'Vol/µl')\n",
    "f.suptitle('Plate1', fontsize=16)\n",
    "\n",
    "plt.show()"
   ]
  },
  {
   "cell_type": "code",
   "execution_count": 4,
   "metadata": {
    "scrolled": true
   },
   "outputs": [
    {
     "data": {
      "text/plain": [
       "<Figure size 432x288 with 0 Axes>"
      ]
     },
     "metadata": {},
     "output_type": "display_data"
    },
    {
     "data": {
      "image/png": "[encoded data removed]",
      "text/plain": [
       "<Figure size 432x288 with 3 Axes>"
      ]
     },
     "metadata": {},
     "output_type": "display_data"
    }
   ],
   "source": [
    "plt.set_cmap('inferno')\n",
    "f, (ax1, ax2, ax3) = plt.subplots(1, 3, sharey=True)\n",
    "\n",
    "maparr = []\n",
    "for i in plate2['Substreate/nl']:\n",
    "    maparr = np.append(maparr, i)\n",
    "ax1.imshow(maparr.reshape(24,16))\n",
    "ax1.set_title('Substrate')\n",
    "\n",
    "#ax1.colorbar(label = 'Vol Substrate/nl')\n",
    "\n",
    "maparr = []\n",
    "for i in plate2['Prot]/µM']:\n",
    "    maparr = np.append(maparr, i)\n",
    "ax2.imshow(maparr.reshape(24,16))\n",
    "ax2.set_title('[Prot]/µM')\n",
    "#ax1.colorbar(label = 'Vol Substrate/nl')\n",
    "\n",
    "maparr = []\n",
    "for i in plate2['Vol/µl']:\n",
    "    maparr = np.append(maparr, i)\n",
    "ax3.imshow(maparr.reshape(24,16))\n",
    "ax3.set_title('Vol/µl')\n",
    "#plt.colorbar(label = 'Vol/µl')\n",
    "f.suptitle('plate2', fontsize=16)\n",
    "\n",
    "plt.show()"
   ]
  },
  {
   "cell_type": "code",
   "execution_count": 5,
   "metadata": {
    "scrolled": true
   },
   "outputs": [
    {
     "data": {
      "text/plain": [
       "<Figure size 432x288 with 0 Axes>"
      ]
     },
     "metadata": {},
     "output_type": "display_data"
    },
    {
     "data": {
      "image/png": "[encoded data removed]",
      "text/plain": [
       "<Figure size 432x288 with 3 Axes>"
      ]
     },
     "metadata": {},
     "output_type": "display_data"
    }
   ],
   "source": [
    "plt.set_cmap('inferno')\n",
    "f, (ax1, ax2, ax3) = plt.subplots(1, 3, sharey=True)\n",
    "\n",
    "maparr = []\n",
    "for i in plate3['Substreate/nl']:\n",
    "    maparr = np.append(maparr, i)\n",
    "ax1.imshow(maparr.reshape(24,16))\n",
    "ax1.set_title('Substrate')\n",
    "\n",
    "#ax1.colorbar(label = 'Vol Substrate/nl')\n",
    "\n",
    "maparr = []\n",
    "for i in plate3['Prot]/µM']:\n",
    "    maparr = np.append(maparr, i)\n",
    "ax2.imshow(maparr.reshape(24,16))\n",
    "ax2.set_title('[Prot]/µM')\n",
    "#ax1.colorbar(label = 'Vol Substrate/nl')\n",
    "\n",
    "maparr = []\n",
    "for i in plate3['Vol/µl']:\n",
    "    maparr = np.append(maparr, i)\n",
    "ax3.imshow(maparr.reshape(24,16))\n",
    "ax3.set_title('Vol/µl')\n",
    "#plt.colorbar(label = 'Vol/µl')\n",
    "f.suptitle('plate3', fontsize=16)\n",
    "\n",
    "plt.show()"
   ]
  },
  {
   "cell_type": "code",
   "execution_count": 170,
   "metadata": {},
   "outputs": [
    {
     "data": {
      "text/plain": [
       "\"\\nfile = open('20180925_echo384_plate3.txt','w') \\n\\nfor i in xml1:\\n    \\n    print(str(xml1.loc[:,i].values))\\n    file.write(str(xml1.loc[:,i].values)) \\n\\n \\nfile.close() \""
      ]
     },
     "execution_count": 170,
     "metadata": {},
     "output_type": "execute_result"
    }
   ],
   "source": [
    "platex = pd.concat([layout, plate3],\n",
    "         axis = 1,\n",
    "         join = 'inner')\n",
    "\n",
    "nums = platex['Well'].str.split('([A-z]+)', expand=True)\n",
    "\n",
    "nums[1] = pd.DataFrame([alphabet.index[alphabet[0]==i].values for i in nums[1]])\n",
    "nums[2] = nums[2].astype(int)\n",
    "\n",
    "nums['position'] = nums[1]*24 + nums[2]\n",
    "\n",
    "text = ['<?xml version=\"1.0\"?>',\n",
    "       '<TransferPlate>']\n",
    "arr=[]\n",
    "arr = ['<Transfer SrcID= \"'+'1'+'\" DestID=\"'+ str(nums['position'][i]) +'\" Volume=\"'+str(platex['Substreate/nl'][i])  +'\" />' for i in range(0,len(platex))]\n",
    "\n",
    "arr.append('</TransferPlate>')\n",
    "xml1 = pd.DataFrame(text).append(pd.DataFrame(arr))\n",
    "\n",
    "outfile = open('plate3.xml', 'w')\n",
    "\n",
    "for i in text:\n",
    "    outfile.write(i)\n",
    "for i in arr:\n",
    "    outfile.write(i)\n",
    "outfile.close()"
   ]
  },
  {
   "cell_type": "code",
   "execution_count": 190,
   "metadata": {},
   "outputs": [
    {
     "data": {
      "text/plain": [
       "15.238999999999999"
      ]
     },
     "execution_count": 190,
     "metadata": {},
     "output_type": "execute_result"
    }
   ],
   "source": [
    "((sum(temp['Substreate/nl'])/1000)+98.8)/50"
   ]
  },
  {
   "cell_type": "code",
   "execution_count": null,
   "metadata": {},
   "outputs": [],
   "source": []
  }
 ],
 "metadata": {
  "kernelspec": {
   "display_name": "Python 3",
   "language": "python",
   "name": "python3"
  },
  "language_info": {
   "codemirror_mode": {
    "name": "ipython",
    "version": 3
   },
   "file_extension": ".py",
   "mimetype": "text/x-python",
   "name": "python",
   "nbconvert_exporter": "python",
   "pygments_lexer": "ipython3",
   "version": "3.6.5"
  }
 },
 "nbformat": 4,
 "nbformat_minor": 2
}
